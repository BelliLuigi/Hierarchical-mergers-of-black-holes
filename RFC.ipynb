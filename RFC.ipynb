{
 "cells": [
  {
   "cell_type": "code",
   "execution_count": 1,
   "id": "291b19fe-47b7-4333-9538-34f83e8ab780",
   "metadata": {},
   "outputs": [],
   "source": [
    "# Import packages & setup dataframes\n",
    "import pandas as pd\n",
    "import numpy as np\n",
    "import matplotlib.pyplot as plt\n",
    "from funky import extractor\n",
    "from sklearn.ensemble import RandomForestClassifier\n",
    "from sklearn.model_selection import train_test_split, GridSearchCV\n",
    "from sklearn.metrics import classification_report\n",
    "\n",
    "# names=['ID', 'M1', 'M2', 'S1', 'S2', 't_pair', 't_elapsed','kick','Mrem', 'Srem', 'esca_v', 'Mcluster', 'gen', 'Z', 'gen_max']\n",
    "df_gc = extractor('gc')\n",
    "df_nsc = extractor('nsc')\n",
    "df_ysc = extractor('ysc')"
   ]
  },
  {
   "cell_type": "code",
   "execution_count": 2,
   "id": "c041e9fc-4fd8-4f34-8a43-02aa1b0d4270",
   "metadata": {},
   "outputs": [],
   "source": [
    "def classes(gen):\n",
    "    if gen > 3: return 1\n",
    "    return gen\n",
    "\n",
    "\n",
    "df_nsc['target'] = df_nsc['gen_max'].transform(classes)"
   ]
  },
  {
   "cell_type": "code",
   "execution_count": 3,
   "id": "227370d8-d08a-4a61-8be9-49a571c31840",
   "metadata": {},
   "outputs": [],
   "source": [
    "min_evo = df_nsc.loc[df_nsc.groupby('ID')['gen'].idxmin()]"
   ]
  },
  {
   "cell_type": "code",
   "execution_count": 4,
   "id": "38c8f64f-3e32-45ad-8ba5-c6cd1c81a23b",
   "metadata": {},
   "outputs": [
    {
     "name": "stdout",
     "output_type": "stream",
     "text": [
      "              precision    recall  f1-score   support\n",
      "\n",
      "           1       0.26      0.26      0.26      4327\n",
      "           2       1.00      0.99      1.00    479924\n",
      "           3       0.84      0.91      0.87     31695\n",
      "\n",
      "    accuracy                           0.98    515946\n",
      "   macro avg       0.70      0.72      0.71    515946\n",
      "weighted avg       0.98      0.98      0.98    515946\n",
      "\n"
     ]
    }
   ],
   "source": [
    "# separate test set, create label set\n",
    "dumped_features = ['ID', 'gen', 'gen_max', 'target']\n",
    "nsc_train, nsc_test, fate_train, fate_test = train_test_split((train_feats := min_evo.drop(columns=dumped_features)), min_evo['target'], test_size=0.2)\n",
    "\n",
    "\n",
    "forest = RandomForestClassifier(n_estimators=30, max_depth=20, random_state=1758, n_jobs=-1, class_weight='balanced')\n",
    "forest.fit(nsc_train, fate_train)\n",
    "print(classification_report(fate_test, forest.predict(nsc_test)))"
   ]
  },
  {
   "cell_type": "code",
   "execution_count": 5,
   "id": "0238b945-4701-4138-9e45-51cc6e06fd38",
   "metadata": {},
   "outputs": [
    {
     "data": {
      "image/png": "[encoded data removed]",
      "text/plain": [
       "<Figure size 640x480 with 1 Axes>"
      ]
     },
     "metadata": {},
     "output_type": "display_data"
    }
   ],
   "source": [
    "importances = pd.Series(forest.feature_importances_, index=list(train_feats))\n",
    "importances.plot.bar()\n",
    "plt.show()"
   ]
  },
  {
   "cell_type": "code",
   "execution_count": null,
   "id": "871ef07c-99ae-4be6-80ca-64d862681270",
   "metadata": {},
   "outputs": [],
   "source": []
  }
 ],
 "metadata": {
  "kernelspec": {
   "display_name": "Python 3 (ipykernel)",
   "language": "python",
   "name": "python3"
  },
  "language_info": {
   "codemirror_mode": {
    "name": "ipython",
    "version": 3
   },
   "file_extension": ".py",
   "mimetype": "text/x-python",
   "name": "python",
   "nbconvert_exporter": "python",
   "pygments_lexer": "ipython3",
   "version": "3.12.7"
  }
 },
 "nbformat": 4,
 "nbformat_minor": 5
}
