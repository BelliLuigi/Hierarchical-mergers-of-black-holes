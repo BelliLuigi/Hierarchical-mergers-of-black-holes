{
 "cells": [
  {
   "cell_type": "markdown",
   "id": "9e798377-4756-4ffb-a953-2f5f7507ab76",
   "metadata": {},
   "source": [
    "# Bozza Random forest"
   ]
  },
  {
   "cell_type": "raw",
   "id": "4b573269-0fb6-40a8-ba36-4bfa71a2d717",
   "metadata": {},
   "source": [
    "TODO: \n",
    "- Marghe: capire cosa è il random forest\n",
    "- Gigi: estendere l'algoritmo qui sotto a tutti i cluster e metallicità\n",
    "- Giovi : continua a fare i plot \n",
    "- Gabri : capire cosa è il random forest"
   ]
  },
  {
   "cell_type": "code",
   "execution_count": 9,
   "id": "c86b9961-e1d1-4ab2-b851-824c8227ea26",
   "metadata": {
    "tags": []
   },
   "outputs": [],
   "source": [
    "import pandas as pd\n",
    "from sklearn.model_selection import train_test_split\n",
    "import os\n",
    "\n",
    "\n",
    "heade = ['ID', 'M1', 'M2', 'S1', 'S2', 't_pair', 't_elapsed', 'Mrem', 'Srem', 'esca_v', 'Mtot', 'gen']\n",
    "\n",
    "path_data = './data/'\n",
    "dyn = '/Dyn/' # Direi che così è facilmente customizzabile per come ogni autistic* si è sistemato i files.\n",
    "\n",
    "def extractor(path_data, cluster):\n",
    "    dataset = {}\n",
    "    wichcluster = os.listdir(path_data)\n",
    "    if cluster == 'gc':\n",
    "        cluster = wichcluster[2]\n",
    "    if cluster == 'nsc':\n",
    "        cluster = wichcluster[1]\n",
    "    if cluster == 'ysc':\n",
    "        cluster = wichcluster[0]\n",
    "    for i in os.listdir(path_data + cluster + dyn):\n",
    "        name = path_data + cluster + '/Dyn/' + str(i) + '/nth_generation.txt'\n",
    "        dataset[str(i)]=pd.read_csv(name, delimiter=' ', skiprows=1, header=None)#, names=heade)\n",
    "        dataset[str(i)].drop(dataset[str(i)].columns[[5, 6, 7, 8, 10, 11, 12, 14, 18, 19, 20, 21, 22, 23, 24, 26]], axis=1, inplace=True)\n",
    "        dataset[str(i)].columns = heade\n",
    "    return dataset\n",
    "\n"
   ]
  },
  {
   "cell_type": "code",
   "execution_count": 10,
   "id": "a1649f69-08b6-440f-8eb3-2a3f5b76de0b",
   "metadata": {},
   "outputs": [],
   "source": [
    "df_gc = extractor(path_data,'gc') # globular clusters\n",
    "df_nsc = extractor(path_data,'nsc') # nuclear clusters\n",
    "df_ysc = extractor(path_data,'ysc') # young star clusters\n"
   ]
  },
  {
   "cell_type": "code",
   "execution_count": null,
   "id": "31cc668b-5a3d-466e-af2b-77b4a03becd8",
   "metadata": {},
   "outputs": [],
   "source": []
  },
  {
   "cell_type": "code",
   "execution_count": null,
   "id": "747a48e3-764c-4e20-bf88-ee3105ddb0fe",
   "metadata": {},
   "outputs": [],
   "source": []
  },
  {
   "cell_type": "code",
   "execution_count": null,
   "id": "3df5a939-7fc9-4eef-bfae-bfdd98a06402",
   "metadata": {},
   "outputs": [],
   "source": []
  }
 ],
 "metadata": {
  "kernelspec": {
   "display_name": "Python 3 (ipykernel)",
   "language": "python",
   "name": "python3"
  },
  "language_info": {
   "codemirror_mode": {
    "name": "ipython",
    "version": 3
   },
   "file_extension": ".py",
   "mimetype": "text/x-python",
   "name": "python",
   "nbconvert_exporter": "python",
   "pygments_lexer": "ipython3",
   "version": "3.12.2"
  }
 },
 "nbformat": 4,
 "nbformat_minor": 5
}
