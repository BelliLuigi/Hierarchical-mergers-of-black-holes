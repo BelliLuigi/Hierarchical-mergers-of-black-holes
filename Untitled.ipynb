{
 "cells": [
  {
   "cell_type": "code",
   "execution_count": null,
   "id": "a9f3fe04-f559-4fdf-9ec3-05263ec5b87a",
   "metadata": {},
   "outputs": [],
   "source": [
    "dataysc = extractor(path_data, 'ysc')\n",
    "\n",
    "df = dataysc\n",
    "\n",
    "colonne = list(df.columns)\n",
    "\n",
    "targetcol = str('gen')\n",
    "\n",
    "X = df.drop(columns=targetcol)\n",
    "y = df[targetcol]\n",
    "colonne.remove(targetcol)\n",
    "\n",
    "\n",
    "X_train, X_test, y_train, y_test = train_test_split(X, y, test_size=0.2, random_state=42)\n",
    "\n",
    "# Initialize Random Forest Regressor\n",
    "model = RandomForestRegressor(n_estimators=50, max_depth=5, random_state=42, n_jobs=6)\n",
    "\n",
    "pipeline = Pipeline([('scaler', MinMaxScaler()), ('regressor', model)])\n",
    "\n",
    "pipeline.fit(X_train, y_train)\n",
    "\n",
    "r2 = pipeline.score(X_test, y_test)\n",
    "\n",
    "print(f\"RFR: {r2}\") \n",
    "#Prediction on test set\n",
    "y_pred = pipeline.predict(X_test)\n",
    "\n",
    "mae = mean_absolute_error(y_test, y_pred)\n",
    "mse = mean_squared_error(y_test, y_pred)\n",
    "r2 = r2_score(y_test, y_pred)\n",
    "\n",
    "# Print metrics\n",
    "print(f\"Mean Absolute Error (MAE): {mae}\")\n",
    "print(f\"Mean Squared Error (MSE): {mse}\")\n",
    "print(f\"Root Mean Squared Error (RMSE): {mse ** 0.5}\")\n",
    "print(f\"R² Score: {r2}\")\n",
    "\n",
    "feature_importances = pipeline.named_steps['regressor'].feature_importances_\n",
    "feature_names = colonne\n",
    "\n",
    "# Sort features by importance\n",
    "sorted_idx = np.argsort(feature_importances)[::-1]\n",
    "\n",
    "# Plot feature importance\n",
    "plt.figure(figsize=(10, 6))\n",
    "plt.bar(range(len(feature_importances)), feature_importances[sorted_idx], align=\"center\")\n",
    "plt.xticks(range(len(feature_importances)), [feature_names[i] for i in sorted_idx], rotation=45)\n",
    "plt.xlabel(\"Feature\")\n",
    "plt.ylabel(\"Importance Score\")\n",
    "plt.title(\"Feature Importance in Predicting BH generation in YSCs\")\n",
    "plt.show()"
   ]
  }
 ],
 "metadata": {
  "kernelspec": {
   "display_name": "Python 3 (ipykernel)",
   "language": "python",
   "name": "python3"
  },
  "language_info": {
   "codemirror_mode": {
    "name": "ipython",
    "version": 3
   },
   "file_extension": ".py",
   "mimetype": "text/x-python",
   "name": "python",
   "nbconvert_exporter": "python",
   "pygments_lexer": "ipython3",
   "version": "3.12.2"
  }
 },
 "nbformat": 4,
 "nbformat_minor": 5
}
